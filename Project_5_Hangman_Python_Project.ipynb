{
  "nbformat": 4,
  "nbformat_minor": 0,
  "metadata": {
    "colab": {
      "provenance": [],
      "authorship_tag": "ABX9TyPISDiNBmH8qRHvLUB8xa+I",
      "include_colab_link": true
    },
    "kernelspec": {
      "name": "python3",
      "display_name": "Python 3"
    },
    "language_info": {
      "name": "python"
    }
  },
  "cells": [
    {
      "cell_type": "markdown",
      "metadata": {
        "id": "view-in-github",
        "colab_type": "text"
      },
      "source": [
        "<a href=\"https://colab.research.google.com/github/NaghmanaImran/AI-101-Project-4/blob/main/Project_5_Hangman_Python_Project.ipynb\" target=\"_parent\"><img src=\"https://colab.research.google.com/assets/colab-badge.svg\" alt=\"Open In Colab\"/></a>"
      ]
    },
    {
      "cell_type": "code",
      "execution_count": 1,
      "metadata": {
        "colab": {
          "base_uri": "https://localhost:8080/"
        },
        "id": "1gz_GgtplanG",
        "outputId": "d4639eb2-b2af-4539-fbf3-2ac8a951fe8c"
      },
      "outputs": [
        {
          "output_type": "stream",
          "name": "stdout",
          "text": [
            "Welcome to Hangman!\n",
            "Word:  _ _ _ _ _ _ _\n",
            "Guess a letter: python\n",
            "Wrong guess!\n",
            "You have 5 tries left.\n",
            "\n",
            "Word:  _ _ _ _ _ _ _\n",
            "Guess a letter: hanfman\n",
            "Wrong guess!\n",
            "You have 4 tries left.\n",
            "\n",
            "Word:  _ _ _ _ _ _ _\n",
            "Guess a letter: hangman\n",
            "Wrong guess!\n",
            "You have 3 tries left.\n",
            "\n",
            "Word:  _ _ _ _ _ _ _\n",
            "Guess a letter: project\n",
            "Good guess!\n",
            "\n",
            "Word:  _ _ _ _ _ _ _\n",
            "Guess a letter: colab\n",
            "Wrong guess!\n",
            "You have 2 tries left.\n",
            "\n",
            "Word:  _ _ _ _ _ _ _\n",
            "Guess a letter: developer\n",
            "Wrong guess!\n",
            "You have 1 tries left.\n",
            "\n",
            "Word:  _ _ _ _ _ _ _\n",
            "Guess a letter: \n",
            "Good guess!\n",
            "\n",
            "Word:  _ _ _ _ _ _ _\n",
            "Guess a letter: 0\n",
            "Wrong guess!\n",
            "You have 0 tries left.\n",
            "\n",
            "Game over! The word was: project\n"
          ]
        }
      ],
      "source": [
        "import random\n",
        "\n",
        "def hangman():\n",
        "    word_list = ['python', 'hangman', 'project', 'colab', 'developer']\n",
        "    word = random.choice(word_list)\n",
        "    guessed_letters = []\n",
        "    tries = 6\n",
        "\n",
        "    print(\"Welcome to Hangman!\")\n",
        "\n",
        "    while tries > 0:\n",
        "        display_word = ''\n",
        "        for letter in word:\n",
        "            if letter in guessed_letters:\n",
        "                display_word += letter\n",
        "            else:\n",
        "                display_word += '_'\n",
        "\n",
        "        print(\"Word: \", ' '.join(display_word))\n",
        "\n",
        "        if display_word == word:\n",
        "            print(\"Congratulations! You guessed the word!\")\n",
        "            break\n",
        "\n",
        "        guess = input(\"Guess a letter: \").lower()\n",
        "\n",
        "        if guess in guessed_letters:\n",
        "            print(\"You already guessed that letter.\")\n",
        "        elif guess in word:\n",
        "            print(\"Good guess!\")\n",
        "            guessed_letters.append(guess)\n",
        "        else:\n",
        "            print(\"Wrong guess!\")\n",
        "            guessed_letters.append(guess)\n",
        "            tries -= 1\n",
        "            print(f\"You have {tries} tries left.\")\n",
        "\n",
        "        print()\n",
        "\n",
        "    if tries == 0:\n",
        "        print(f\"Game over! The word was: {word}\")\n",
        "\n",
        "hangman()\n"
      ]
    }
  ]
}