{
  "nbformat": 4,
  "nbformat_minor": 0,
  "metadata": {
    "colab": {
      "provenance": [],
      "authorship_tag": "ABX9TyNskr8aCeUsfo5wWfJTyWRe",
      "include_colab_link": true
    },
    "kernelspec": {
      "name": "python3",
      "display_name": "Python 3"
    },
    "language_info": {
      "name": "python"
    }
  },
  "cells": [
    {
      "cell_type": "markdown",
      "metadata": {
        "id": "view-in-github",
        "colab_type": "text"
      },
      "source": [
        "<a href=\"https://colab.research.google.com/github/NaghmanaImran/AI-101-Project-4/blob/main/Project_4_Rock%2C_paper%2C_scissors_Python_Project.ipynb\" target=\"_parent\"><img src=\"https://colab.research.google.com/assets/colab-badge.svg\" alt=\"Open In Colab\"/></a>"
      ]
    },
    {
      "cell_type": "code",
      "execution_count": 2,
      "metadata": {
        "colab": {
          "base_uri": "https://localhost:8080/"
        },
        "id": "vTXq8Jl4lBcO",
        "outputId": "90966438-4186-4553-ead4-0f2d9950fec8"
      },
      "outputs": [
        {
          "output_type": "stream",
          "name": "stdout",
          "text": [
            "🎮 Welcome to Rock, Paper, Scissors!\n",
            "\n",
            "Enter rock, paper, or scissors (or 'q' to quit): rock\n",
            "🧠 Computer chose: rock\n",
            "🤝 It's a tie!\n",
            "\n",
            "Enter rock, paper, or scissors (or 'q' to quit): scissors\n",
            "🧠 Computer chose: paper\n",
            "✅ You win!\n",
            "\n",
            "Enter rock, paper, or scissors (or 'q' to quit): paper\n",
            "🧠 Computer chose: scissors\n",
            "❌ You lose!\n",
            "\n",
            "Enter rock, paper, or scissors (or 'q' to quit): q\n",
            "👋 Thanks for playing!\n"
          ]
        }
      ],
      "source": [
        "import random\n",
        "\n",
        "def play_game():\n",
        "    print(\"🎮 Welcome to Rock, Paper, Scissors!\")\n",
        "    choices = [\"rock\", \"paper\", \"scissors\"]\n",
        "\n",
        "    while True:\n",
        "        user_choice = input(\"\\nEnter rock, paper, or scissors (or 'q' to quit): \").lower()\n",
        "        if user_choice == 'q':\n",
        "            print(\"👋 Thanks for playing!\")\n",
        "            break\n",
        "\n",
        "        if user_choice not in choices:\n",
        "            print(\"⚠️ Invalid choice! Please try again.\")\n",
        "            continue\n",
        "\n",
        "        computer_choice = random.choice(choices)\n",
        "        print(f\"🧠 Computer chose: {computer_choice}\")\n",
        "\n",
        "        if user_choice == computer_choice:\n",
        "            print(\"🤝 It's a tie!\")\n",
        "        elif (user_choice == \"rock\" and computer_choice == \"scissors\") or \\\n",
        "             (user_choice == \"scissors\" and computer_choice == \"paper\") or \\\n",
        "             (user_choice == \"paper\" and computer_choice == \"rock\"):\n",
        "            print(\"✅ You win!\")\n",
        "        else:\n",
        "            print(\"❌ You lose!\")\n",
        "\n",
        "# Run the game\n",
        "play_game()\n",
        "\n"
      ]
    }
  ]
}