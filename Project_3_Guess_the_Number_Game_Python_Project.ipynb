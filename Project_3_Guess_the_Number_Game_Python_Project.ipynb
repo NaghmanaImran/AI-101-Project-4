{
  "nbformat": 4,
  "nbformat_minor": 0,
  "metadata": {
    "colab": {
      "provenance": [],
      "authorship_tag": "ABX9TyNO4ALMYNDpElX8OtYlODbi",
      "include_colab_link": true
    },
    "kernelspec": {
      "name": "python3",
      "display_name": "Python 3"
    },
    "language_info": {
      "name": "python"
    }
  },
  "cells": [
    {
      "cell_type": "markdown",
      "metadata": {
        "id": "view-in-github",
        "colab_type": "text"
      },
      "source": [
        "<a href=\"https://colab.research.google.com/github/NaghmanaImran/AI-101-Project-4/blob/main/Project_3_Guess_the_Number_Game_Python_Project.ipynb\" target=\"_parent\"><img src=\"https://colab.research.google.com/assets/colab-badge.svg\" alt=\"Open In Colab\"/></a>"
      ]
    },
    {
      "cell_type": "code",
      "execution_count": null,
      "metadata": {
        "colab": {
          "base_uri": "https://localhost:8080/"
        },
        "id": "x1oXH1hgbmSP",
        "outputId": "954a40e8-2010-4160-8f57-561e56c8a4fc"
      },
      "outputs": [
        {
          "output_type": "stream",
          "name": "stdout",
          "text": [
            "Welcome to the 'Guess the Number' Game!\n",
            "I have selected a number between 1 and 100.\n",
            "Try to guess it in as few attempts as possible.\n",
            "\n",
            "Enter your guess: 2\n",
            "Too low! Try a higher number.\n",
            "Enter your guess: 99\n",
            "Too high! Try a lower number.\n",
            "Enter your guess: 1\n",
            "Too low! Try a higher number.\n",
            "Enter your guess: 7\n",
            "Too low! Try a higher number.\n",
            "Enter your guess: \n",
            "⚠️ Please enter a valid number (digits only).\n"
          ]
        }
      ],
      "source": [
        "import random\n",
        "\n",
        "def guess_the_number():\n",
        "    print(\"Welcome to the 'Guess the Number' Game!\")\n",
        "    print(\"I have selected a number between 1 and 100.\")\n",
        "    print(\"Try to guess it in as few attempts as possible.\\n\")\n",
        "\n",
        "    secret_number = random.randint(1, 100)\n",
        "    attempts = 0\n",
        "\n",
        "    while True:\n",
        "        try:\n",
        "            guess = int(input(\"Enter your guess: \"))\n",
        "            attempts += 1\n",
        "\n",
        "            if guess < secret_number:\n",
        "                print(\"Too low! Try a higher number.\")\n",
        "            elif guess > secret_number:\n",
        "                print(\"Too high! Try a lower number.\")\n",
        "            else:\n",
        "                print(f\"🎉 Correct! You guessed the number in {attempts} attempts.\")\n",
        "                break\n",
        "\n",
        "        except ValueError:\n",
        "            print(\"⚠️ Please enter a valid number (digits only).\")\n",
        "\n",
        "# Call the function to start the game\n",
        "guess_the_number()\n",
        "\n",
        "\n"
      ]
    }
  ]
}