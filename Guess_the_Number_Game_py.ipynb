{
  "nbformat": 4,
  "nbformat_minor": 0,
  "metadata": {
    "colab": {
      "provenance": [],
      "authorship_tag": "ABX9TyNGb9WTfh5E28EE9coQ3Q5Y",
      "include_colab_link": true
    },
    "kernelspec": {
      "name": "python3",
      "display_name": "Python 3"
    },
    "language_info": {
      "name": "python"
    }
  },
  "cells": [
    {
      "cell_type": "markdown",
      "metadata": {
        "id": "view-in-github",
        "colab_type": "text"
      },
      "source": [
        "<a href=\"https://colab.research.google.com/github/NaghmanaImran/AI-101-Project-4/blob/main/Guess_the_Number_Game_py.ipynb\" target=\"_parent\"><img src=\"https://colab.research.google.com/assets/colab-badge.svg\" alt=\"Open In Colab\"/></a>"
      ]
    },
    {
      "cell_type": "code",
      "execution_count": 1,
      "metadata": {
        "colab": {
          "base_uri": "https://localhost:8080/"
        },
        "id": "R_Wqh4DsY4xc",
        "outputId": "add61c25-7fb2-4524-c1d7-d42b9961fc9e"
      },
      "outputs": [
        {
          "output_type": "stream",
          "name": "stdout",
          "text": [
            "Welcome to the Number Guessing Game!\n",
            "Think of a number between 1 to 10, and the computer will try to guess it.\n",
            "Computer's guess is: 8\n",
            "Is the guess too High (H), too Low (L), or Correct (C)? 6\n",
            "Invalid input. Please enter H, L, or C.\n",
            "Computer's guess is: 4\n",
            "Is the guess too High (H), too Low (L), or Correct (C)? h\n",
            "Computer's guess is: 3\n",
            "Is the guess too High (H), too Low (L), or Correct (C)? l\n",
            "Hmm... Something's wrong. Are you sure you followed the rules?\n"
          ]
        }
      ],
      "source": [
        "import random\n",
        "\n",
        "print(\"Welcome to the Number Guessing Game!\")\n",
        "\n",
        "low = 1\n",
        "high = 10\n",
        "\n",
        "print(\"Think of a number between 1 to 10, and the computer will try to guess it.\")\n",
        "\n",
        "while low <= high:\n",
        "    guess = random.randint(low, high)\n",
        "    print(\"Computer's guess is:\", guess)\n",
        "\n",
        "    feedback = input(\"Is the guess too High (H), too Low (L), or Correct (C)? \").strip().upper()\n",
        "\n",
        "    if feedback == 'C':\n",
        "        print(\"Yay! The computer guessed your number! 🎉\")\n",
        "        break\n",
        "    elif feedback == 'H':\n",
        "        high = guess - 1  # reduce upper range\n",
        "    elif feedback == 'L':\n",
        "        low = guess + 1   # increase lower range\n",
        "    else:\n",
        "        print(\"Invalid input. Please enter H, L, or C.\")\n",
        "\n",
        "    if low > high:\n",
        "        print(\"Hmm... Something's wrong. Are you sure you followed the rules?\")\n",
        "        break"
      ]
    }
  ]
}