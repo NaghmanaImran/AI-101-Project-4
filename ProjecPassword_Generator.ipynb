{
  "nbformat": 4,
  "nbformat_minor": 0,
  "metadata": {
    "colab": {
      "provenance": [],
      "authorship_tag": "ABX9TyPREjg60tDYanBbnj8zHCfW",
      "include_colab_link": true
    },
    "kernelspec": {
      "name": "python3",
      "display_name": "Python 3"
    },
    "language_info": {
      "name": "python"
    }
  },
  "cells": [
    {
      "cell_type": "markdown",
      "metadata": {
        "id": "view-in-github",
        "colab_type": "text"
      },
      "source": [
        "<a href=\"https://colab.research.google.com/github/NaghmanaImran/AI-101-Project-4/blob/main/ProjecPassword_Generator.ipynb\" target=\"_parent\"><img src=\"https://colab.research.google.com/assets/colab-badge.svg\" alt=\"Open In Colab\"/></a>"
      ]
    },
    {
      "cell_type": "code",
      "execution_count": 2,
      "metadata": {
        "colab": {
          "base_uri": "https://localhost:8080/"
        },
        "id": "EdIYtDu04axp",
        "outputId": "4b95bd9c-ec1f-4eeb-b338-efb9ba8344d6"
      },
      "outputs": [
        {
          "output_type": "stream",
          "name": "stdout",
          "text": [
            "Enter the desired password length: 8\n",
            "Generated password: TAM('j,Z\n"
          ]
        }
      ],
      "source": [
        "import random\n",
        "import string\n",
        "\n",
        "def generate_password(length):\n",
        "    characters = string.ascii_letters + string.digits + string.punctuation\n",
        "    password = \"\".join(random.choice(characters) for _ in range(length))\n",
        "    return password\n",
        "\n",
        "if __name__ == \"__main__\":\n",
        "    length = int(input(\"Enter the desired password length: \"))\n",
        "    print(\"Generated password:\", generate_password(length))\n",
        "\n",
        "\n",
        "\n"
      ]
    }
  ]
}